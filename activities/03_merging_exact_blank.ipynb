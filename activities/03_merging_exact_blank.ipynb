{
 "cells": [
  {
   "cell_type": "markdown",
   "metadata": {},
   "source": [
    "# Imports "
   ]
  },
  {
   "cell_type": "code",
   "execution_count": 1,
   "metadata": {},
   "outputs": [],
   "source": [
    "import pandas as pd\n",
    "import numpy as np\n",
    "import os\n",
    "\n",
    "import seaborn\n",
    "\n",
    "## repeated printouts\n",
    "from IPython.core.interactiveshell import InteractiveShell\n",
    "InteractiveShell.ast_node_interactivity = \"all\""
   ]
  },
  {
   "cell_type": "markdown",
   "metadata": {},
   "source": [
    "## Read in data and make sure relevant columns are string/character \n",
    "\n",
    "- San Diego data: `naics_code` and `account_key`\n",
    "- NAICS details data: `naics` (North American Industry Classification Systems)\n",
    "\n",
    "Run code below; if pulling from github, pathname should be fine; if working elsewhere may need to edit path name at read in "
   ]
  },
  {
   "cell_type": "code",
   "execution_count": 2,
   "metadata": {},
   "outputs": [],
   "source": [
    "# uncomment if u need to find your path: os.getcwd()\n",
    "SD = sd_df = pd.read_csv(\"../public_data/sd_df.csv\")\n",
    "NA = naics_df = pd.read_csv(\"../public_data/naics_df.csv\")"
   ]
  },
  {
   "cell_type": "code",
   "execution_count": 5,
   "metadata": {},
   "outputs": [
    {
     "data": {
      "text/plain": [
       "account_key          object\n",
       "dba_name             object\n",
       "council_district     object\n",
       "naics_code           object\n",
       "naics_description    object\n",
       "naics_nchar           int64\n",
       "dtype: object"
      ]
     },
     "execution_count": 5,
     "metadata": {},
     "output_type": "execute_result"
    },
    {
     "data": {
      "text/plain": [
       "naics                object\n",
       "naics_description    object\n",
       "dtype: object"
      ]
     },
     "execution_count": 5,
     "metadata": {},
     "output_type": "execute_result"
    },
    {
     "data": {
      "text/html": [
       "<div>\n",
       "<style scoped>\n",
       "    .dataframe tbody tr th:only-of-type {\n",
       "        vertical-align: middle;\n",
       "    }\n",
       "\n",
       "    .dataframe tbody tr th {\n",
       "        vertical-align: top;\n",
       "    }\n",
       "\n",
       "    .dataframe thead th {\n",
       "        text-align: right;\n",
       "    }\n",
       "</style>\n",
       "<table border=\"1\" class=\"dataframe\">\n",
       "  <thead>\n",
       "    <tr style=\"text-align: right;\">\n",
       "      <th></th>\n",
       "      <th>account_key</th>\n",
       "      <th>dba_name</th>\n",
       "      <th>council_district</th>\n",
       "      <th>naics_code</th>\n",
       "      <th>naics_description</th>\n",
       "      <th>naics_nchar</th>\n",
       "    </tr>\n",
       "  </thead>\n",
       "  <tbody>\n",
       "    <tr>\n",
       "      <th>0</th>\n",
       "      <td>1974000448</td>\n",
       "      <td>ERNST &amp; YOUNG LLP</td>\n",
       "      <td>cd_1</td>\n",
       "      <td>541211</td>\n",
       "      <td>OFFICES OF CERTIFIED PUBLIC ACCOUNTANTS</td>\n",
       "      <td>6</td>\n",
       "    </tr>\n",
       "    <tr>\n",
       "      <th>1</th>\n",
       "      <td>1974011093</td>\n",
       "      <td>HECHT SOLBERG ROBINSON GOLDBERG &amp; BAGLEY LLP</td>\n",
       "      <td>cd_3</td>\n",
       "      <td>5411</td>\n",
       "      <td>LEGAL SERVICES</td>\n",
       "      <td>4</td>\n",
       "    </tr>\n",
       "    <tr>\n",
       "      <th>2</th>\n",
       "      <td>1978039819</td>\n",
       "      <td>RSM US LLP</td>\n",
       "      <td>cd_1</td>\n",
       "      <td>541211</td>\n",
       "      <td>OFFICES OF CERTIFIED PUBLIC ACCOUNTANTS</td>\n",
       "      <td>6</td>\n",
       "    </tr>\n",
       "    <tr>\n",
       "      <th>3</th>\n",
       "      <td>1978042092</td>\n",
       "      <td>THORSNES BARTOLOTTA MCGUIRE LLP</td>\n",
       "      <td>cd_3</td>\n",
       "      <td>5411</td>\n",
       "      <td>LEGAL SERVICES</td>\n",
       "      <td>4</td>\n",
       "    </tr>\n",
       "    <tr>\n",
       "      <th>4</th>\n",
       "      <td>1979046817</td>\n",
       "      <td>KORENIC &amp; WOJDOWSKI LLP</td>\n",
       "      <td>cd_7</td>\n",
       "      <td>5412</td>\n",
       "      <td>ACCOUNTING/TAX PREP/BOOKKEEP/PAYROLL SERVICES</td>\n",
       "      <td>4</td>\n",
       "    </tr>\n",
       "  </tbody>\n",
       "</table>\n",
       "</div>"
      ],
      "text/plain": [
       "  account_key                                      dba_name council_district  \\\n",
       "0  1974000448                             ERNST & YOUNG LLP             cd_1   \n",
       "1  1974011093  HECHT SOLBERG ROBINSON GOLDBERG & BAGLEY LLP             cd_3   \n",
       "2  1978039819                                    RSM US LLP             cd_1   \n",
       "3  1978042092               THORSNES BARTOLOTTA MCGUIRE LLP             cd_3   \n",
       "4  1979046817                       KORENIC & WOJDOWSKI LLP             cd_7   \n",
       "\n",
       "  naics_code                              naics_description  naics_nchar  \n",
       "0     541211        OFFICES OF CERTIFIED PUBLIC ACCOUNTANTS            6  \n",
       "1       5411                                 LEGAL SERVICES            4  \n",
       "2     541211        OFFICES OF CERTIFIED PUBLIC ACCOUNTANTS            6  \n",
       "3       5411                                 LEGAL SERVICES            4  \n",
       "4       5412  ACCOUNTING/TAX PREP/BOOKKEEP/PAYROLL SERVICES            4  "
      ]
     },
     "execution_count": 5,
     "metadata": {},
     "output_type": "execute_result"
    },
    {
     "data": {
      "text/html": [
       "<div>\n",
       "<style scoped>\n",
       "    .dataframe tbody tr th:only-of-type {\n",
       "        vertical-align: middle;\n",
       "    }\n",
       "\n",
       "    .dataframe tbody tr th {\n",
       "        vertical-align: top;\n",
       "    }\n",
       "\n",
       "    .dataframe thead th {\n",
       "        text-align: right;\n",
       "    }\n",
       "</style>\n",
       "<table border=\"1\" class=\"dataframe\">\n",
       "  <thead>\n",
       "    <tr style=\"text-align: right;\">\n",
       "      <th></th>\n",
       "      <th>naics</th>\n",
       "      <th>naics_description</th>\n",
       "    </tr>\n",
       "  </thead>\n",
       "  <tbody>\n",
       "    <tr>\n",
       "      <th>0</th>\n",
       "      <td>111140</td>\n",
       "      <td>Wheat Farming</td>\n",
       "    </tr>\n",
       "    <tr>\n",
       "      <th>1</th>\n",
       "      <td>111160</td>\n",
       "      <td>Rice Farming</td>\n",
       "    </tr>\n",
       "    <tr>\n",
       "      <th>2</th>\n",
       "      <td>111150</td>\n",
       "      <td>Corn Farming</td>\n",
       "    </tr>\n",
       "    <tr>\n",
       "      <th>3</th>\n",
       "      <td>111110</td>\n",
       "      <td>Soybean Farming</td>\n",
       "    </tr>\n",
       "    <tr>\n",
       "      <th>4</th>\n",
       "      <td>111120</td>\n",
       "      <td>Oilseed (except Soybean) Farming</td>\n",
       "    </tr>\n",
       "  </tbody>\n",
       "</table>\n",
       "</div>"
      ],
      "text/plain": [
       "    naics                 naics_description\n",
       "0  111140                     Wheat Farming\n",
       "1  111160                      Rice Farming\n",
       "2  111150                      Corn Farming\n",
       "3  111110                   Soybean Farming\n",
       "4  111120  Oilseed (except Soybean) Farming"
      ]
     },
     "execution_count": 5,
     "metadata": {},
     "output_type": "execute_result"
    }
   ],
   "source": [
    "cols_sd_use = [\"naics_code\", \"account_key\"]\n",
    "cols_naics_use = [\"naics\"]\n",
    "\n",
    "sd_df[cols_sd_use] = sd_df[cols_sd_use].astype(str)\n",
    "naics_df[cols_naics_use] = naics_df[cols_naics_use].astype(str)\n",
    "\n",
    "sd_df.dtypes\n",
    "naics_df.dtypes\n",
    "sd_df.head()\n",
    "naics_df.head()"
   ]
  },
  {
   "cell_type": "markdown",
   "metadata": {},
   "source": [
    "## \"Inner join\"- retain only San Diego businesses with details on their NAICS code\n",
    "\n",
    "- Use the `naics_code` column in the San Diego business data as the join key\n",
    "- Use the `naics` column in the NAICS code details data as the join key\n",
    "\n",
    "- Do an inner join of the San Diego data onto the NAICS code details using these join keys\n",
    "- After the inner join, print some examples of San Diego businesses lost in the merge\n",
    "- Use value_counts() on the `naics_nchar` column in the San Diego data to see why they might have gotten lost\n"
   ]
  },
  {
   "cell_type": "code",
   "execution_count": 15,
   "metadata": {},
   "outputs": [
    {
     "name": "stdout",
     "output_type": "stream",
     "text": [
      "   account_key                                    dba_name council_district  \\\n",
      "0   1974000448                           ERNST & YOUNG LLP             cd_1   \n",
      "1   1978039819                                  RSM US LLP             cd_1   \n",
      "2   1982006408            MAX L. PERLATTI & ASSOCIATES LLP             cd_2   \n",
      "3   1984014611                                    RBTK LLP             cd_6   \n",
      "4   1985008871                                CWGB&S CPAS              cd_3   \n",
      "5   1995006738                                  PADRES L P             cd_3   \n",
      "6   1995007398                                 CRI 2000 LP             cd_3   \n",
      "7   1995007398                                 CRI 2000 LP             cd_3   \n",
      "8   1995007398                                 CRI 2000 LP             cd_3   \n",
      "9   1995007398                                 CRI 2000 LP             cd_3   \n",
      "10  1995007398                                 CRI 2000 LP             cd_3   \n",
      "11  1995007398                                 CRI 2000 LP             cd_3   \n",
      "12  1998004615                        DELSEN & COMPANY LLP             cd_6   \n",
      "13  2000001077                 MASSEY WEHR AND COMPANY LLP             cd_1   \n",
      "14  2003001470  GUM SAAN - THE LAND OF THE GOLDEN MOUNTAIN             cd_3   \n",
      "15  2003001470  GUM SAAN - THE LAND OF THE GOLDEN MOUNTAIN             cd_3   \n",
      "16  2003001470  GUM SAAN - THE LAND OF THE GOLDEN MOUNTAIN             cd_3   \n",
      "17  2003001470  GUM SAAN - THE LAND OF THE GOLDEN MOUNTAIN             cd_3   \n",
      "18  2004006421            ROBBINS GELLER RUDMAN & DOWD LLP             cd_3   \n",
      "19  2005012737                         SLATER & TRUXAW LLP             cd_1   \n",
      "20  2006000166         GUERRERO JIMENEZ DIAZ & COMPANY LLP             cd_3   \n",
      "21  2006009239                         CONNOR & CUNDEL LLP             cd_3   \n",
      "22  2006010738                       WENTHUR LAW GROUP LLP             cd_2   \n",
      "23  2007000136                              MOSS ADAMS LLP             cd_7   \n",
      "24  2007022822               THE LOAN COMPANY OF SAN DIEGO             cd_3   \n",
      "25  2008016718                                 BDO USA LLP             cd_1   \n",
      "26  2009003243                ALTMAN INVESTMENT COMPANY LP             cd_1   \n",
      "27  2009010415         THE SUMMIT AT POINT LOMA APARTMENTS             cd_2   \n",
      "28  2010012365                  LAPIZ PROPERTIES GROUP LTD             cd_1   \n",
      "29  2010013586                        SWENSON ADVISORS LLP             cd_3   \n",
      "30  2013053990                       MURRILL & GERBINO LLP             cd_1   \n",
      "31  2013067165                                       ARIEL             cd_3   \n",
      "32  2014027828                    STEES WALKER COMPANY LLP             cd_5   \n",
      "33  2014034430               ALVAREZ TAX & ACCOUNTING  LLP             cd_6   \n",
      "34  2018000234        VINAS UNITED CRYPTO INVESTMENT GROUP             cd_6   \n",
      "35  2018000234        VINAS UNITED CRYPTO INVESTMENT GROUP             cd_6   \n",
      "36  2018023600          ALLIED UNIVERSAL SECURITY SERVICES             cd_5   \n",
      "37  2019015278               BEYER BOULEVARD APARTMENTS LP             cd_8   \n",
      "38  2019023546                        REIWA ACCOUNTING LLP             cd_3   \n",
      "39  2020007786                       PRIMAL COFFEE COMPANY             cd_2   \n",
      "40  2020007786                       PRIMAL COFFEE COMPANY             cd_2   \n",
      "41  2020007786                       PRIMAL COFFEE COMPANY             cd_2   \n",
      "42  2020007786                       PRIMAL COFFEE COMPANY             cd_2   \n",
      "43  2020007786                       PRIMAL COFFEE COMPANY             cd_2   \n",
      "44  2020013537                  MOTHER TO MOTHER MIDWIFERY             cd_3   \n",
      "45  2020013537                  MOTHER TO MOTHER MIDWIFERY             cd_3   \n",
      "46  2021010826                       STARDUST FLOAT SPA LP             cd_2   \n",
      "47  2003021665                                   SDDR V LP             cd_7   \n",
      "48  2003021665                                   SDDR V LP             cd_7   \n",
      "49  2014004525                          INSTANT SMOG CHECK             cd_6   \n",
      "50  2014004525                          INSTANT SMOG CHECK             cd_6   \n",
      "51  2014004525                          INSTANT SMOG CHECK             cd_6   \n",
      "\n",
      "   naics_code                            naics_description_x  naics_nchar  \\\n",
      "0      541211        OFFICES OF CERTIFIED PUBLIC ACCOUNTANTS            6   \n",
      "1      541211        OFFICES OF CERTIFIED PUBLIC ACCOUNTANTS            6   \n",
      "2      541211        OFFICES OF CERTIFIED PUBLIC ACCOUNTANTS            6   \n",
      "3      541211        OFFICES OF CERTIFIED PUBLIC ACCOUNTANTS            6   \n",
      "4      541211        OFFICES OF CERTIFIED PUBLIC ACCOUNTANTS            6   \n",
      "5      711211                         SPORTS TEAMS AND CLUBS            6   \n",
      "6      321999       ALL OTHER MISCELLANEOUS WOOD PRODUCT MFG            6   \n",
      "7      321999       ALL OTHER MISCELLANEOUS WOOD PRODUCT MFG            6   \n",
      "8      321999       ALL OTHER MISCELLANEOUS WOOD PRODUCT MFG            6   \n",
      "9      321999       ALL OTHER MISCELLANEOUS WOOD PRODUCT MFG            6   \n",
      "10     321999       ALL OTHER MISCELLANEOUS WOOD PRODUCT MFG            6   \n",
      "11     321999       ALL OTHER MISCELLANEOUS WOOD PRODUCT MFG            6   \n",
      "12     541211        OFFICES OF CERTIFIED PUBLIC ACCOUNTANTS            6   \n",
      "13     541213                       TAX PREPARATION SERVICES            6   \n",
      "14     453998   ALL OTHER MISC STORE RETAILERS (EXC TOBACCO)            6   \n",
      "15     453998   ALL OTHER MISC STORE RETAILERS (EXC TOBACCO)            6   \n",
      "16     453998   ALL OTHER MISC STORE RETAILERS (EXC TOBACCO)            6   \n",
      "17     453998   ALL OTHER MISC STORE RETAILERS (EXC TOBACCO)            6   \n",
      "18     541199                       ALL OTHER LEGAL SERVICES            6   \n",
      "19     541199                       ALL OTHER LEGAL SERVICES            6   \n",
      "20     541211        OFFICES OF CERTIFIED PUBLIC ACCOUNTANTS            6   \n",
      "21     541199                       ALL OTHER LEGAL SERVICES            6   \n",
      "22     541199                       ALL OTHER LEGAL SERVICES            6   \n",
      "23     541211        OFFICES OF CERTIFIED PUBLIC ACCOUNTANTS            6   \n",
      "24     522291                               CONSUMER LENDING            6   \n",
      "25     541211        OFFICES OF CERTIFIED PUBLIC ACCOUNTANTS            6   \n",
      "26     531312               NONRESIDENTIAL PROPERTY MANAGERS            6   \n",
      "27     531311                  RESIDENTIAL PROPERTY MANAGERS            6   \n",
      "28     531312               NONRESIDENTIAL PROPERTY MANAGERS            6   \n",
      "29     541211        OFFICES OF CERTIFIED PUBLIC ACCOUNTANTS            6   \n",
      "30     541211        OFFICES OF CERTIFIED PUBLIC ACCOUNTANTS            6   \n",
      "31     531311                  RESIDENTIAL PROPERTY MANAGERS            6   \n",
      "32     541211        OFFICES OF CERTIFIED PUBLIC ACCOUNTANTS            6   \n",
      "33     541213                       TAX PREPARATION SERVICES            6   \n",
      "34     523999  MISCELLANEOUS FINANCIAL INVESTMENT ACTIVITIES            6   \n",
      "35     523999  MISCELLANEOUS FINANCIAL INVESTMENT ACTIVITIES            6   \n",
      "36     561612              SECURITY GUARDS & PATROL SERVICES            6   \n",
      "37     531311                  RESIDENTIAL PROPERTY MANAGERS            6   \n",
      "38     541211        OFFICES OF CERTIFIED PUBLIC ACCOUNTANTS            6   \n",
      "39     311999               ALL OTHER MISCELLANEOUS FOOD MFG            6   \n",
      "40     311999               ALL OTHER MISCELLANEOUS FOOD MFG            6   \n",
      "41     311999               ALL OTHER MISCELLANEOUS FOOD MFG            6   \n",
      "42     311999               ALL OTHER MISCELLANEOUS FOOD MFG            6   \n",
      "43     311999               ALL OTHER MISCELLANEOUS FOOD MFG            6   \n",
      "44     621399   OFFICES OF ALL OTH MISC HEALTH PRACTITIONERS            6   \n",
      "45     621399   OFFICES OF ALL OTH MISC HEALTH PRACTITIONERS            6   \n",
      "46     812199                   OTHER PERSONAL CARE SERVICES            6   \n",
      "47     523999  MISCELLANEOUS FINANCIAL INVESTMENT ACTIVITIES            6   \n",
      "48     523999  MISCELLANEOUS FINANCIAL INVESTMENT ACTIVITIES            6   \n",
      "49     811198                       ALL OTHER AUTOMOTIVE R&M            6   \n",
      "50     811198                       ALL OTHER AUTOMOTIVE R&M            6   \n",
      "51     811198                       ALL OTHER AUTOMOTIVE R&M            6   \n",
      "\n",
      "     naics                                naics_description_y  \n",
      "0   541211            Offices of Certified Public Accountants  \n",
      "1   541211            Offices of Certified Public Accountants  \n",
      "2   541211            Offices of Certified Public Accountants  \n",
      "3   541211            Offices of Certified Public Accountants  \n",
      "4   541211            Offices of Certified Public Accountants  \n",
      "5   711211                            Sports Teams and Clubs   \n",
      "6   321999  All Other Miscellaneous Wood Product Manufactu...  \n",
      "7   321999  All Other Miscellaneous Wood Product Manufactu...  \n",
      "8   321999  All Other Miscellaneous Wood Product Manufactu...  \n",
      "9   321999  All Other Miscellaneous Wood Product Manufactu...  \n",
      "10  321999  All Other Miscellaneous Wood Product Manufactu...  \n",
      "11  321999  All Other Miscellaneous Wood Product Manufactu...  \n",
      "12  541211            Offices of Certified Public Accountants  \n",
      "13  541213                           Tax Preparation Services  \n",
      "14  453998  All Other Miscellaneous Store Retailers (excep...  \n",
      "15  453998  All Other Miscellaneous Store Retailers (excep...  \n",
      "16  453998  All Other Miscellaneous Store Retailers (excep...  \n",
      "17  453998  All Other Miscellaneous Store Retailers (excep...  \n",
      "18  541199                           All Other Legal Services  \n",
      "19  541199                           All Other Legal Services  \n",
      "20  541211            Offices of Certified Public Accountants  \n",
      "21  541199                           All Other Legal Services  \n",
      "22  541199                           All Other Legal Services  \n",
      "23  541211            Offices of Certified Public Accountants  \n",
      "24  522291                                   Consumer Lending  \n",
      "25  541211            Offices of Certified Public Accountants  \n",
      "26  531312                   Nonresidential Property Managers  \n",
      "27  531311                      Residential Property Managers  \n",
      "28  531312                   Nonresidential Property Managers  \n",
      "29  541211            Offices of Certified Public Accountants  \n",
      "30  541211            Offices of Certified Public Accountants  \n",
      "31  531311                      Residential Property Managers  \n",
      "32  541211            Offices of Certified Public Accountants  \n",
      "33  541213                           Tax Preparation Services  \n",
      "34  523999      Miscellaneous Financial Investment Activities  \n",
      "35  523999      Miscellaneous Financial Investment Activities  \n",
      "36  561612                Security Guards and Patrol Services  \n",
      "37  531311                      Residential Property Managers  \n",
      "38  541211            Offices of Certified Public Accountants  \n",
      "39  311999         All Other Miscellaneous Food Manufacturing  \n",
      "40  311999         All Other Miscellaneous Food Manufacturing  \n",
      "41  311999         All Other Miscellaneous Food Manufacturing  \n",
      "42  311999         All Other Miscellaneous Food Manufacturing  \n",
      "43  311999         All Other Miscellaneous Food Manufacturing  \n",
      "44  621399  Offices of All Other Miscellaneous Health Prac...  \n",
      "45  621399  Offices of All Other Miscellaneous Health Prac...  \n",
      "46  812199                       Other Personal Care Services  \n",
      "47  523999      Miscellaneous Financial Investment Activities  \n",
      "48  523999      Miscellaneous Financial Investment Activities  \n",
      "49  811198        All Other Automotive Repair and Maintenance  \n",
      "50  811198        All Other Automotive Repair and Maintenance  \n",
      "51  811198        All Other Automotive Repair and Maintenance  \n"
     ]
    },
    {
     "data": {
      "text/plain": [
       "(52, 8)"
      ]
     },
     "execution_count": 15,
     "metadata": {},
     "output_type": "execute_result"
    }
   ],
   "source": [
    "df = SD.merge(NA, left_on = \"naics_code\", right_on=\"naics\", how=\"inner\")\n",
    "print(df)\n",
    "\n",
    "df.shape    "
   ]
  },
  {
   "cell_type": "code",
   "execution_count": 17,
   "metadata": {},
   "outputs": [
    {
     "data": {
      "text/plain": [
       "naics_nchar\n",
       "5    150\n",
       "4     89\n",
       "6     49\n",
       "3     42\n",
       "2     23\n",
       "Name: count, dtype: int64"
      ]
     },
     "execution_count": 17,
     "metadata": {},
     "output_type": "execute_result"
    }
   ],
   "source": [
    "SD.naics_nchar.value_counts()"
   ]
  },
  {
   "cell_type": "markdown",
   "metadata": {},
   "source": [
    "## \"Left join\"- retain all sd businesses even if naics code isn't in `naics_df`\n",
    "\n",
    "- Using the same join keys as above, and treating the San Diego businesses as the left hand side data, left join the naics code details onto the San Diego businesses\n",
    "- Use the `indicator` argument within merge to create an indicator, `naics_merge_status`, to help with later merge diagnostics and examine sample of ones that didn't merge\n",
    "- Use the `suffixes` argument within merge to add `_sd` as the left suffix, `_census` as the right suffix\n",
    "- Use `naics_merge_status` in the merged result to look at a sample of San Diego businesses that weren't matched with `naics_df`"
   ]
  },
  {
   "cell_type": "code",
   "execution_count": null,
   "metadata": {},
   "outputs": [],
   "source": []
  },
  {
   "cell_type": "markdown",
   "metadata": {},
   "source": [
    "## Use group by and agg to see if there are differences in merge rates by area\n",
    "\n",
    "- Using the left-joined dataframe created in previous step, create a boolean indicator, `is_lost`, that equals `True` if the merge indicator is equal to \"left_only\" (and is otherwise false)\n",
    "- Find the proportion of businesses by council district that were lost in the left join (SD businesses that failed to match to `naics_df`). To do this, group by `council_district` and use the shortcut of taking the mean of the `is_lost` indicator to find the proportions lost by `council_district`. "
   ]
  },
  {
   "cell_type": "code",
   "execution_count": null,
   "metadata": {},
   "outputs": [],
   "source": [
    "# your code here"
   ]
  },
  {
   "cell_type": "markdown",
   "metadata": {},
   "source": [
    "## Optional challenge exercise: add lagging 0's and see if merge rate improves\n",
    "\n",
    "You noticed earlier that a big reason for non-matches is that the San Diego tax certificate NAICS codes were often less than six digits long, while the Census ones were always 6 digits.\n",
    "\n",
    "You wonder if this is an issue where 0's in some of the SD's data naics codes got cut off (eg 540000 became 54), and if so whether adding these lagging zeros would improve the merge rate in a left join.\n",
    "\n",
    "- Pad the `naics_code` column in `sd_df` with 0's to get that column up to 6-digits, using one of two approaches: \n",
    "  1. `str.pad` in pandas (https://pandas.pydata.org/docs/reference/api/pandas.Series.str.pad.html)\n",
    "  2. for more of a challenge, write your own function! It should check the # of digits in the naics code string and pad it with 0's at the end up to 6 digits. To execute your function, use row-wise apply: `df.apply(lambda row: funcname(row.column), axis=1)`.\n",
    "- Perform the same left join as above and see how the match rate changes\n",
    "- Create an indicator variable--`is_new_match`---for new matches under the padded NAICS code; compare the `naics_description` column from San Diego versus Census in the new dataset for a sample of these new matches and comment on whether the padding seems to be correct"
   ]
  },
  {
   "cell_type": "code",
   "execution_count": null,
   "metadata": {},
   "outputs": [],
   "source": [
    "# your code here\n",
    "\n",
    "\n",
    "\n"
   ]
  }
 ],
 "metadata": {
  "kernelspec": {
   "display_name": "Python [conda env:base] *",
   "language": "python",
   "name": "conda-base-py"
  },
  "language_info": {
   "codemirror_mode": {
    "name": "ipython",
    "version": 3
   },
   "file_extension": ".py",
   "mimetype": "text/x-python",
   "name": "python",
   "nbconvert_exporter": "python",
   "pygments_lexer": "ipython3",
   "version": "3.12.7"
  }
 },
 "nbformat": 4,
 "nbformat_minor": 4
}
